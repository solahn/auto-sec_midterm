{
 "cells": [
  {
   "cell_type": "code",
   "execution_count": 1,
   "id": "577adb7a-4814-4f7e-ab31-07ed81436ece",
   "metadata": {},
   "outputs": [],
   "source": [
    "#get_ipython().system('pip install pycryptodome==3.14.0')"
   ]
  },
  {
   "cell_type": "code",
   "execution_count": 2,
   "id": "a7cf68e8-9e43-40a8-a04e-3952cd233cc6",
   "metadata": {},
   "outputs": [],
   "source": [
    "from Crypto.PublicKey import RSA\n",
    "from Crypto.Cipher import PKCS1_OAEP"
   ]
  },
  {
   "cell_type": "code",
   "execution_count": 3,
   "id": "1c475f30-dd0e-48a3-b496-6e1f39a770be",
   "metadata": {},
   "outputs": [],
   "source": [
    "# 2) RSA Crypto 클래스 구현 \n",
    "class RSACrypto:\n",
    "    def __init__(self):\n",
    "        self.key_size = 1024  # 키 사이즈는 1024로 고정\n",
    "        \n",
    "    def Create_KeyPair(self):\n",
    "        # RSA 키 쌍 생성\n",
    "        key = RSA.generate(self.key_size)\n",
    "        # 공개키와 개인키 추출\n",
    "        public_key = key.publickey().exportKey()\n",
    "        private_key = key.exportKey()\n",
    "        return public_key, private_key\n",
    "    \n",
    "    def Encrypt(self, data, key):\n",
    "        # 키 가져오기\n",
    "        rsa_key = RSA.importKey(key)\n",
    "\n",
    "        # 공개키가 아니면 에러 발생\n",
    "        if not rsa_key.has_private():\n",
    "            # 암호화 도구 초기화\n",
    "            cipher = PKCS1_OAEP.new(rsa_key)\n",
    "            # 데이터 암호화\n",
    "            encrypted_data = cipher.encrypt(data.encode())\n",
    "            # 암호화된 cipher_text를 return\n",
    "            return encrypted_data\n",
    "        else:\n",
    "            raise ValueError(\"Private key provided for encryption, expected public key.\")\n",
    "    \n",
    "    def Decrypt(self, data, key):\n",
    "        # 키 가져오기\n",
    "        rsa_key = RSA.importKey(key)\n",
    "\n",
    "        # 개인키가 아니면 에러 발생\n",
    "        if rsa_key.has_private():\n",
    "            # 암호화 도구 초기화\n",
    "            cipher = PKCS1_OAEP.new(rsa_key)\n",
    "            # 데이터 복호화\n",
    "            decrypted_data = cipher.decrypt(data).decode()\n",
    "            # 복호화된 plain_text를 return\n",
    "            return decrypted_data\n",
    "        else:\n",
    "            raise ValueError(\"Public key provided for decryption, expected private key.\")"
   ]
  },
  {
   "cell_type": "markdown",
   "id": "73b3fa33-c303-492a-a6b0-2f821aa8933d",
   "metadata": {},
   "source": [
    "---\n",
    "# ✅**RSA Test**"
   ]
  },
  {
   "cell_type": "code",
   "execution_count": 4,
   "id": "648bf59c-fbf9-4d25-8fb6-79773afe0174",
   "metadata": {},
   "outputs": [
    {
     "name": "stdin",
     "output_type": "stream",
     "text": [
      "평문을 입력하세요:  Hello, Word!\n"
     ]
    },
    {
     "name": "stdout",
     "output_type": "stream",
     "text": [
      "복호화 결과 : Hello, Word!\n"
     ]
    }
   ],
   "source": [
    "# plaintext는 사용자로부터 string 형태로 받아옴\n",
    "plaintext = input(\"평문을 입력하세요: \")\n",
    "\n",
    "rsa = RSACrypto()\n",
    "public_key, private_key = rsa.Create_KeyPair()\n",
    "\n",
    "encrypted_data = rsa.Encrypt(plaintext , public_key)\n",
    "#print(\"암호화 결과 :\", encrypted_data)\n",
    "\n",
    "decrypted_data = rsa.Decrypt(encrypted_data, private_key)\n",
    "# 복호화된 텍스트가 비어있는지 확인하고, 그에 따라 적절한 메시지를 출력\n",
    "if not decrypted_data.strip():  # strip()을 사용하여 공백만 있는 문자열도 체크\n",
    "    print(\"복호화 결과 :\", \"빈 평문입니다.\")\n",
    "else:\n",
    "    print(\"복호화 결과 :\", decrypted_data)"
   ]
  },
  {
   "cell_type": "markdown",
   "id": "3b601656-92e3-4cb8-a4f7-eff25f26c5e6",
   "metadata": {},
   "source": [
    "---\n",
    "# **RSA Auto-test**"
   ]
  },
  {
   "cell_type": "code",
   "execution_count": 5,
   "id": "956608eb-fbc1-48a6-9eb4-f15b51706570",
   "metadata": {},
   "outputs": [],
   "source": [
    "# RSA 암호화/복호화\n",
    "# 정상적인 공개키 및 개인키를 사용하여 RSA 암호화 및 복호화가 올바르게 작동함\n",
    "def test_rsa_encryption_decryption():\n",
    "    print(\"\\n[+] Testing RSA encryption/decryption\")\n",
    "\n",
    "    plaintext = \"Test data for RSA encryption\"\n",
    "    rsa = RSACrypto()\n",
    "\n",
    "    public_key, private_key = rsa.Create_KeyPair()\n",
    "    encrypted_data = rsa.Encrypt(plaintext, public_key)\n",
    "    decrypted_data = rsa.Decrypt(encrypted_data, private_key)\n",
    "\n",
    "    assert decrypted_data == plaintext\n",
    "    print(\"RSA encryption/decryption: PASSED\") # 정상적인 결과\n",
    "\n",
    "# 긴 문자열에 대해서도 RSA가 올바르게 작동함\n",
    "def test_rsa_with_long_string():\n",
    "    print(\"\\n[+] Testing RSA with long string\")\n",
    "\n",
    "    plaintext = \"A\" * 86  # Modify this line 100바이트의 문자열은 안됨\n",
    "    rsa = RSACrypto()\n",
    "\n",
    "    public_key, private_key = rsa.Create_KeyPair()\n",
    "    encrypted_data = rsa.Encrypt(plaintext, public_key)\n",
    "    decrypted_data = rsa.Decrypt(encrypted_data, private_key)\n",
    "\n",
    "    assert decrypted_data == plaintext\n",
    "    print(\"RSA with long string: PASSED\") # 정상적인 결과\n",
    "    \n",
    "# 빈 평문으로 RSA 테스트: 평문이 없을 때도 RSA 올바르게 작동함\n",
    "def test_rsa_empty_plaintext():\n",
    "    print(\"\\n[+] Testing RSA with empty plaintext\")\n",
    "\n",
    "    plaintext = \"\"\n",
    "    rsa = RSACrypto()\n",
    "\n",
    "    public_key, private_key = rsa.Create_KeyPair()\n",
    "    encrypted_data = rsa.Encrypt(plaintext, public_key)\n",
    "    decrypted_data = rsa.Decrypt(encrypted_data, private_key)\n",
    "\n",
    "    assert decrypted_data == plaintext\n",
    "    print(\"RSA with empty plaintext: PASSED\") # 정상적인 결과\n",
    "\n",
    "# RSA에서 개인 키로 암호화를 수행하는 것은 허용되지 않음, 따라서 테스트가 실패하는 것은 올바른 동작임\n",
    "def test_rsa_encryption_with_private_key():\n",
    "    print(\"\\n[+] Testing RSA encryption using private key (--> which is not supposed to be done)\")\n",
    "\n",
    "    plaintext = \"Test data for RSA encryption\"\n",
    "    rsa = RSACrypto()\n",
    "\n",
    "    public_key, private_key = rsa.Create_KeyPair()\n",
    "    try:\n",
    "        encrypted_data = rsa.Encrypt(plaintext, private_key)\n",
    "        print(\"RSA encryption using private key: UNEXPECTED PASSED\") # 비정상적인 결과\n",
    "    except Exception:\n",
    "        print(\"RSA encryption using private key: EXPECTED FAILED\") # 정상적인 결과\n",
    "\n",
    "# RSA에서는 공개 키로 복호화를 시도하는 것은 허용되지 않음,. 따라서 테스트가 실패하는 것은 올바른 동작임\n",
    "def test_rsa_decryption_with_public_key():\n",
    "    print(\"\\n[+] Testing RSA decryption using public key (--> which is not supposed to be done)\")\n",
    "\n",
    "    plaintext = \"Test data for RSA encryption\"\n",
    "    rsa = RSACrypto()\n",
    "\n",
    "    public_key, private_key = rsa.Create_KeyPair()\n",
    "    encrypted_data = rsa.Encrypt(plaintext, public_key)\n",
    "    try:\n",
    "        decrypted_data = rsa.Decrypt(encrypted_data, public_key)\n",
    "        print(\"RSA decryption using public key: UNEXPECTED PASSED\") # 비정상적인 결과\n",
    "    except Exception:\n",
    "        print(\"RSA decryption using public key: EXPECTED FAILED\") # 정상적인 결과\n",
    "\n"
   ]
  },
  {
   "cell_type": "code",
   "execution_count": 6,
   "id": "8421ccae-23f7-452a-9705-a6d697695eea",
   "metadata": {},
   "outputs": [
    {
     "name": "stdout",
     "output_type": "stream",
     "text": [
      "\n",
      "[+] Testing RSA encryption/decryption\n",
      "RSA encryption/decryption: PASSED\n",
      "\n",
      "[+] Testing RSA with long string\n",
      "RSA with long string: PASSED\n",
      "\n",
      "[+] Testing RSA with empty plaintext\n",
      "RSA with empty plaintext: PASSED\n",
      "\n",
      "[+] Testing RSA encryption using private key (--> which is not supposed to be done)\n",
      "RSA encryption using private key: EXPECTED FAILED\n",
      "\n",
      "[+] Testing RSA decryption using public key (--> which is not supposed to be done)\n",
      "RSA decryption using public key: EXPECTED FAILED\n"
     ]
    }
   ],
   "source": [
    "test_rsa_encryption_decryption()\n",
    "test_rsa_with_long_string()\n",
    "test_rsa_empty_plaintext()\n",
    "test_rsa_encryption_with_private_key()\n",
    "test_rsa_decryption_with_public_key()"
   ]
  },
  {
   "cell_type": "code",
   "execution_count": null,
   "id": "cc9c2446-6ea3-43eb-90f7-a8305447c009",
   "metadata": {},
   "outputs": [],
   "source": []
  }
 ],
 "metadata": {
  "kernelspec": {
   "display_name": "Python 3 (ipykernel)",
   "language": "python",
   "name": "python3"
  },
  "language_info": {
   "codemirror_mode": {
    "name": "ipython",
    "version": 3
   },
   "file_extension": ".py",
   "mimetype": "text/x-python",
   "name": "python",
   "nbconvert_exporter": "python",
   "pygments_lexer": "ipython3",
   "version": "3.9.5"
  }
 },
 "nbformat": 4,
 "nbformat_minor": 5
}
