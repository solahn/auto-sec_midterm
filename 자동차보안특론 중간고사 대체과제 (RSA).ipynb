{
 "cells": [
  {
   "cell_type": "code",
   "execution_count": 1,
   "id": "577adb7a-4814-4f7e-ab31-07ed81436ece",
   "metadata": {},
   "outputs": [],
   "source": [
    "#get_ipython().system('pip install pycryptodome==3.14.0')"
   ]
  },
  {
   "cell_type": "code",
   "execution_count": 2,
   "id": "a7cf68e8-9e43-40a8-a04e-3952cd233cc6",
   "metadata": {},
   "outputs": [],
   "source": [
    "from Crypto.PublicKey import RSA\n",
    "from Crypto.Cipher import PKCS1_OAEP"
   ]
  },
  {
   "cell_type": "code",
   "execution_count": 3,
   "id": "1c475f30-dd0e-48a3-b496-6e1f39a770be",
   "metadata": {},
   "outputs": [],
   "source": [
    "# 2) RSA Crypto 클래스 구현 \n",
    "class RSACrypto:\n",
    "    def __init__(self):\n",
    "        self.key_size = 1024  # 키 크기는 1024로 고정\n",
    "        \n",
    "    def Create_KeyPair(self):\n",
    "        # RSA 키 쌍 생성\n",
    "        key = RSA.generate(self.key_size)\n",
    "        # 공개키와 개인키 추출\n",
    "        public_key = key.publickey().exportKey()\n",
    "        private_key = key.exportKey()\n",
    "        return public_key, private_key\n",
    "    \n",
    "    def Encrypt(self, data, key):\n",
    "        # 키 가져오기\n",
    "        rsa_key = RSA.importKey(key)\n",
    "\n",
    "        # 공개키가 아니면 에러 발생\n",
    "        if not rsa_key.has_private():\n",
    "            # 암호화 도구 초기화\n",
    "            cipher = PKCS1_OAEP.new(rsa_key)\n",
    "            # 데이터 암호화\n",
    "            encrypted_data = cipher.encrypt(data.encode())\n",
    "            return encrypted_data\n",
    "        else:\n",
    "            raise ValueError(\"Private key provided for encryption, expected public key.\")\n",
    "    \n",
    "    def Decrypt(self, data, key):\n",
    "        # 키 가져오기\n",
    "        rsa_key = RSA.importKey(key)\n",
    "\n",
    "        # 개인키가 아니면 에러 발생\n",
    "        if rsa_key.has_private():\n",
    "            # 암호화 도구 초기화\n",
    "            cipher = PKCS1_OAEP.new(rsa_key)\n",
    "            # 데이터 복호화\n",
    "            decrypted_data = cipher.decrypt(data).decode()\n",
    "            return decrypted_data\n",
    "        else:\n",
    "            raise ValueError(\"Public key provided for decryption, expected private key.\")"
   ]
  },
  {
   "cell_type": "markdown",
   "id": "5ed94b2c-0011-4b0d-ba19-dce72e4f24bf",
   "metadata": {},
   "source": [
    "## `exportKey` 및 `importKey` 사용의 필요성\n",
    "\n",
    "RSA 키 객체는 복잡한 데이터 구조로 이루어져 있어, 실제 활용시에는 적절한 문자열 또는 바이트 형식으로의 변환이 필요합니다. 이를 위해 `exportKey`와 `importKey` 메소드를 사용합니다.\n",
    "\n",
    "### 1. 포멧화 및 저장\n",
    "\n",
    "RSA 키는 메모리 상의 복잡한 데이터 구조입니다. 파일로 저장하거나 네트워크를 통해 전송하기 위해서는 이 데이터 구조를 적절한 문자열 또는 바이트 형식으로 변환해야 합니다. `exportKey`는 이런 변환 작업을 수행, 키를 다양한 포맷으로 출력해줍니다.\n",
    "\n",
    "### 2. 표준화\n",
    "\n",
    "`exportKey`를 통해 키는 표준 포맷, 예를 들어 **PEM** 또는 **DER**와 같은 포맷으로 출력됩니다. 이러한 표준 포맷은 다양한 암호화 도구나 솔루션 간의 호환성을 보장하는 데 중요합니다.\n",
    "\n",
    "### 3. 키 교환\n",
    "\n",
    "암호화 통신에서 키 교환은 필수적입니다. 키 객체를 직접 전송하는 것은 실질적으로 불가능하므로, 문자열 또는 바이트 형식으로 변환된 키를 전달해야 합니다.\n",
    "\n",
    "### 4. 복원 및 사용\n",
    "\n",
    "`importKey`는 `exportKey`를 통해 변환된 키 데이터를 다시 RSA 키 객체로 복원합니다. 즉, 실제 암호화나 복호화 작업에 사용하기 위해 변환 작업을 수행합니다.\n",
    "\n",
    "### 5. 보안\n",
    "\n",
    "키를 안전하게 저장하거나 전송하기 위해 추가적인 암호화 방법을 적용할 수 있습니다. 이때, 문자열 또는 바이트 형식의 키 데이터를 기반으로 이러한 작업을 수행하기 쉽습니다."
   ]
  },
  {
   "cell_type": "markdown",
   "id": "73b3fa33-c303-492a-a6b0-2f821aa8933d",
   "metadata": {},
   "source": [
    "---\n",
    "# ✅**RSA Test**"
   ]
  },
  {
   "cell_type": "code",
   "execution_count": 4,
   "id": "648bf59c-fbf9-4d25-8fb6-79773afe0174",
   "metadata": {},
   "outputs": [
    {
     "name": "stdin",
     "output_type": "stream",
     "text": [
      "평문을 입력하세요:  Hello, World!\n"
     ]
    },
    {
     "name": "stdout",
     "output_type": "stream",
     "text": [
      "복호화 결과 : Hello, World!\n"
     ]
    }
   ],
   "source": [
    "# plaintext는 사용자로부터 string 형태로 받아옴\n",
    "plaintext = input(\"평문을 입력하세요: \")\n",
    "\n",
    "rsa = RSACrypto()\n",
    "public_key, private_key = rsa.Create_KeyPair()\n",
    "\n",
    "encrypted_data = rsa.Encrypt(plaintext , public_key)\n",
    "#print(\"암호화 결과 :\", encrypted_data)\n",
    "\n",
    "decrypted_data = rsa.Decrypt(encrypted_data, private_key)\n",
    "# 복호화된 텍스트가 비어있는지 확인하고, 그에 따라 적절한 메시지를 출력\n",
    "if not decrypted_data.strip():  # strip()을 사용하여 공백만 있는 문자열도 체크\n",
    "    print(\"복호화 결과 :\", \"빈 평문입니다.\")\n",
    "else:\n",
    "    print(\"복호화 결과 :\", decrypted_data)"
   ]
  },
  {
   "cell_type": "markdown",
   "id": "3b601656-92e3-4cb8-a4f7-eff25f26c5e6",
   "metadata": {},
   "source": [
    "---\n",
    "# **RSA Auto-test**"
   ]
  },
  {
   "cell_type": "code",
   "execution_count": 5,
   "id": "956608eb-fbc1-48a6-9eb4-f15b51706570",
   "metadata": {},
   "outputs": [],
   "source": [
    "# RSA 암호화/복호화\n",
    "# 정상적인 공개키 및 개인키를 사용하여 RSA 암호화 및 복호화가 올바르게 작동함\n",
    "def test_rsa_encryption_decryption():\n",
    "    print(\"\\n[+] Testing RSA encryption/decryption\")\n",
    "\n",
    "    plaintext = \"Test data for RSA encryption\"\n",
    "    rsa = RSACrypto()\n",
    "\n",
    "    public_key, private_key = rsa.Create_KeyPair()\n",
    "    encrypted_data = rsa.Encrypt(plaintext, public_key)\n",
    "    decrypted_data = rsa.Decrypt(encrypted_data, private_key)\n",
    "\n",
    "    assert decrypted_data == plaintext\n",
    "    print(\"RSA encryption/decryption: PASSED\") # 정상적인 결과\n",
    "\n",
    "# 긴 문자열에 대해서도 RSA가 올바르게 작동함\n",
    "def test_rsa_with_long_string():\n",
    "    print(\"\\n[+] Testing RSA with long string\")\n",
    "\n",
    "    plaintext = \"A\" * 86  # Modify this line 100바이트의 문자열은 안됨\n",
    "    rsa = RSACrypto()\n",
    "\n",
    "    public_key, private_key = rsa.Create_KeyPair()\n",
    "    encrypted_data = rsa.Encrypt(plaintext, public_key)\n",
    "    decrypted_data = rsa.Decrypt(encrypted_data, private_key)\n",
    "\n",
    "    assert decrypted_data == plaintext\n",
    "    print(\"RSA with long string: PASSED\") # 정상적인 결과\n",
    "    \n",
    "# 빈 평문으로 RSA 테스트: 평문이 없을 때도 RSA 올바르게 작동함\n",
    "def test_rsa_empty_plaintext():\n",
    "    print(\"\\n[+] Testing RSA with empty plaintext\")\n",
    "\n",
    "    plaintext = \"\"\n",
    "    rsa = RSACrypto()\n",
    "\n",
    "    public_key, private_key = rsa.Create_KeyPair()\n",
    "    encrypted_data = rsa.Encrypt(plaintext, public_key)\n",
    "    decrypted_data = rsa.Decrypt(encrypted_data, private_key)\n",
    "\n",
    "    assert decrypted_data == plaintext\n",
    "    print(\"RSA with empty plaintext: PASSED\") # 정상적인 결과\n",
    "\n",
    "# RSA에서 개인 키로 암호화를 수행하는 것은 허용되지 않음, 따라서 테스트가 실패하는 것은 올바른 동작임\n",
    "def test_rsa_encryption_with_private_key():\n",
    "    print(\"\\n[+] Testing RSA encryption using private key (--> which is not supposed to be done)\")\n",
    "\n",
    "    plaintext = \"Test data for RSA encryption\"\n",
    "    rsa = RSACrypto()\n",
    "\n",
    "    public_key, private_key = rsa.Create_KeyPair()\n",
    "    try:\n",
    "        encrypted_data = rsa.Encrypt(plaintext, private_key)\n",
    "        print(\"RSA encryption using private key: UNEXPECTED PASSED\") # 비정상적인 결과\n",
    "    except Exception:\n",
    "        print(\"RSA encryption using private key: EXPECTED FAILED\") # 정상적인 결과\n",
    "\n",
    "# RSA에서는 공개 키로 복호화를 시도하는 것은 허용되지 않음,. 따라서 테스트가 실패하는 것은 올바른 동작임\n",
    "def test_rsa_decryption_with_public_key():\n",
    "    print(\"\\n[+] Testing RSA decryption using public key (--> which is not supposed to be done)\")\n",
    "\n",
    "    plaintext = \"Test data for RSA encryption\"\n",
    "    rsa = RSACrypto()\n",
    "\n",
    "    public_key, private_key = rsa.Create_KeyPair()\n",
    "    encrypted_data = rsa.Encrypt(plaintext, public_key)\n",
    "    try:\n",
    "        decrypted_data = rsa.Decrypt(encrypted_data, public_key)\n",
    "        print(\"RSA decryption using public key: UNEXPECTED PASSED\") # 비정상적인 결과\n",
    "    except Exception:\n",
    "        print(\"RSA decryption using public key: EXPECTED FAILED\") # 정상적인 결과\n",
    "\n"
   ]
  },
  {
   "cell_type": "code",
   "execution_count": 6,
   "id": "8421ccae-23f7-452a-9705-a6d697695eea",
   "metadata": {},
   "outputs": [
    {
     "name": "stdout",
     "output_type": "stream",
     "text": [
      "\n",
      "[+] Testing RSA encryption/decryption\n",
      "RSA encryption/decryption: PASSED\n",
      "\n",
      "[+] Testing RSA with long string\n",
      "RSA with long string: PASSED\n",
      "\n",
      "[+] Testing RSA with empty plaintext\n",
      "RSA with empty plaintext: PASSED\n",
      "\n",
      "[+] Testing RSA encryption using private key (--> which is not supposed to be done)\n",
      "RSA encryption using private key: EXPECTED FAILED\n",
      "\n",
      "[+] Testing RSA decryption using public key (--> which is not supposed to be done)\n",
      "RSA decryption using public key: EXPECTED FAILED\n"
     ]
    }
   ],
   "source": [
    "test_rsa_encryption_decryption()\n",
    "test_rsa_with_long_string()\n",
    "test_rsa_empty_plaintext()\n",
    "test_rsa_encryption_with_private_key()\n",
    "test_rsa_decryption_with_public_key()"
   ]
  },
  {
   "cell_type": "code",
   "execution_count": null,
   "id": "cc9c2446-6ea3-43eb-90f7-a8305447c009",
   "metadata": {},
   "outputs": [],
   "source": []
  }
 ],
 "metadata": {
  "kernelspec": {
   "display_name": "Python 3 (ipykernel)",
   "language": "python",
   "name": "python3"
  },
  "language_info": {
   "codemirror_mode": {
    "name": "ipython",
    "version": 3
   },
   "file_extension": ".py",
   "mimetype": "text/x-python",
   "name": "python",
   "nbconvert_exporter": "python",
   "pygments_lexer": "ipython3",
   "version": "3.9.5"
  }
 },
 "nbformat": 4,
 "nbformat_minor": 5
}
